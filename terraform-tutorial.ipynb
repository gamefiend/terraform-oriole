{
 "cells": [
  {
   "cell_type": "markdown",
   "metadata": {},
   "source": [
    "# Terraform From Scratch\n",
    "\n",
    "Terraform is easy to get started with. The simplicity of it's declarative language combined with the power of its providers is one of its features. This project will make getting started with Terraform even easier. You'll spin up a quick and simple web architecture, reshape it and re-deploy, and find ways to make it modular.\n",
    "\n",
    "First though, we need to make sure you have the following:\n",
    "- **An AWS Account with permissions to install EC2 instances and VPCs**. We will be making live infrastructure, and you will need an account capable of creating EC2 instances and VPCs. Have your AWS Key and AWS Secret on hand; you'll need it in a moment. _Warning: this can incur charges and fees on your account, so you should take care to remove these machines when you are finished!_\n",
    "\n",
    "- **Terraform Installed**. "
   ]
  }
 ],
 "metadata": {
  "kernelspec": {
   "display_name": "Python 2",
   "language": "python",
   "name": "python2"
  },
  "language_info": {
   "codemirror_mode": {
    "name": "ipython",
    "version": 2
   },
   "file_extension": ".py",
   "mimetype": "text/x-python",
   "name": "python",
   "nbconvert_exporter": "python",
   "pygments_lexer": "ipython2",
   "version": "2.7.11"
  }
 },
 "nbformat": 4,
 "nbformat_minor": 0
}
